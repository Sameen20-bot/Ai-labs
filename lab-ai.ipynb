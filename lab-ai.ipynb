{
 "cells": [
  {
   "cell_type": "code",
   "execution_count": 1,
   "id": "02f08147-e7d4-4edf-b1b4-eb6d0b3c8e99",
   "metadata": {},
   "outputs": [
    {
     "name": "stdout",
     "output_type": "stream",
     "text": [
      "Predictions: [1 1 0]\n",
      "Confusion Matrix:\n",
      " [[1 0]\n",
      " [0 2]]\n",
      "Accuracy: 1.0\n",
      "True Positives (TP): 2\n",
      "False Positives (FP): 0\n",
      "True Negatives (TN): 1\n",
      "False Negatives (FN): 0\n",
      "Manual Accuracy Calculation: 1.0\n"
     ]
    }
   ],
   "source": [
    "import pandas as pd\n",
    "from sklearn import preprocessing\n",
    "from sklearn.neighbors import KNeighborsClassifier\n",
    "from sklearn.metrics import confusion_matrix, accuracy_score\n",
    "from sklearn.model_selection import train_test_split\n",
    "\n",
    "# Data preparation\n",
    "data = {\n",
    "    'Weather': ['Sunny', 'Sunny', 'Overcast', 'Rainy', 'Rainy', 'Rainy', 'Overcast', 'Sunny', 'Sunny',\n",
    "                'Overcast', 'Sunny', 'Rainy', 'Overcast', 'Overcast', 'Rainy'],\n",
    "    'Temperature': ['Hot', 'Hot', 'Hot', 'Mild', 'Cool', 'Cool', 'Cool', 'Mild', 'Cool', 'Mild', 'Mild', 'Mild', 'Hot', 'Mild', 'Cool'],\n",
    "    'Play': ['No', 'No', 'Yes', 'Yes', 'Yes', 'No', 'Yes', 'No', 'Yes', 'Yes', 'Yes', 'Yes', 'Yes', 'Yes', 'No']\n",
    "}\n",
    "\n",
    "df = pd.DataFrame(data)\n",
    "\n",
    "le = preprocessing.LabelEncoder()\n",
    "weather_encoded = le.fit_transform(df['Weather'])\n",
    "temp_encoded = le.fit_transform(df['Temperature'])\n",
    "label = le.fit_transform(df['Play'])\n",
    "\n",
    "features = list(zip(weather_encoded, temp_encoded))\n",
    "features_train, features_test, label_train, label_test = train_test_split(\n",
    "    features, label, test_size=0.2, random_state=42\n",
    ")\n",
    "\n",
    "model = KNeighborsClassifier(n_neighbors=3, metric='euclidean')\n",
    "model.fit(features_train, label_train)\n",
    "\n",
    "predicted = model.predict(features_test)\n",
    "\n",
    "print(\"Predictions:\", predicted)\n",
    "\n",
    "conf_mat = confusion_matrix(label_test, predicted)\n",
    "print(\"Confusion Matrix:\\n\", conf_mat)\n",
    "\n",
    "accuracy = accuracy_score(label_test, predicted)\n",
    "print(\"Accuracy:\", accuracy)\n",
    "\n",
    "TP = conf_mat[1][1]\n",
    "TN = conf_mat[0][0]\n",
    "FP = conf_mat[0][1]\n",
    "FN = conf_mat[1][0]\n",
    "\n",
    "print(\"True Positives (TP):\", TP)\n",
    "print(\"False Positives (FP):\", FP)\n",
    "print(\"True Negatives (TN):\", TN)\n",
    "print(\"False Negatives (FN):\", FN)\n",
    "\n",
    "manual_accuracy = (TP + TN) / (TP + TN + FP + FN)\n",
    "print(\"Manual Accuracy Calculation:\", manual_accuracy)\n"
   ]
  },
  {
   "cell_type": "code",
   "execution_count": 3,
   "id": "9c9c902f-398f-40f8-922a-6c59ac268f4b",
   "metadata": {},
   "outputs": [
    {
     "name": "stdout",
     "output_type": "stream",
     "text": [
      "Distances from query instance to each training sample: [(4.0, 'Bad'), (5.0, 'Bad'), (3.0, 'Good'), (3.605551275463989, 'Good')]\n",
      "Nearest neighbors (k=3): [(3.0, 'Good'), (3.605551275463989, 'Good'), (4.0, 'Bad')]\n",
      "Predicted class for the query instance: Good\n"
     ]
    }
   ],
   "source": [
    "import numpy as np\n",
    "from collections import Counter\n",
    "\n",
    "training_data = {\n",
    "    'X1': [7, 7, 3, 1],\n",
    "    'X2': [7, 4, 4, 4],\n",
    "    'Y': ['Bad', 'Bad', 'Good', 'Good']\n",
    "}\n",
    "\n",
    "query_instance = (3, 7)\n",
    "\n",
    "distances = []\n",
    "for i in range(len(training_data['X1'])):\n",
    "    p1, p2 = training_data['X1'][i], training_data['X2'][i]\n",
    "    q1, q2 = query_instance\n",
    "    distance = np.sqrt((q1 - p1) ** 2 + (q2 - p2) ** 2)\n",
    "    distances.append((distance, training_data['Y'][i]))\n",
    "\n",
    "k = 3\n",
    "nearest_neighbors = sorted(distances)[:k]\n",
    "neighbor_classes = [neighbor[1] for neighbor in nearest_neighbors]\n",
    "predicted_class = Counter(neighbor_classes).most_common(1)[0][0]\n",
    "\n",
    "print(\"Distances from query instance to each training sample:\", distances)\n",
    "print(\"Nearest neighbors (k=3):\", nearest_neighbors)\n",
    "print(\"Predicted class for the query instance:\", predicted_class)\n"
   ]
  },
  {
   "cell_type": "code",
   "execution_count": null,
   "id": "9308896a-36b4-4bd8-9ff7-65ccdf0fe3e5",
   "metadata": {},
   "outputs": [],
   "source": []
  }
 ],
 "metadata": {
  "kernelspec": {
   "display_name": "Python 3 (ipykernel)",
   "language": "python",
   "name": "python3"
  },
  "language_info": {
   "codemirror_mode": {
    "name": "ipython",
    "version": 3
   },
   "file_extension": ".py",
   "mimetype": "text/x-python",
   "name": "python",
   "nbconvert_exporter": "python",
   "pygments_lexer": "ipython3",
   "version": "3.12.7"
  }
 },
 "nbformat": 4,
 "nbformat_minor": 5
}
